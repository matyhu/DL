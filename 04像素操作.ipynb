{
 "cells": [
  {
   "cell_type": "code",
   "execution_count": 3,
   "metadata": {},
   "outputs": [
    {
     "name": "stdout",
     "output_type": "stream",
     "text": [
      "244 241 237\n"
     ]
    },
    {
     "data": {
      "text/plain": [
       "-1"
      ]
     },
     "execution_count": 3,
     "metadata": {},
     "output_type": "execute_result"
    }
   ],
   "source": [
    "import cv2\n",
    "img = cv2.imread('image0.jpg',1)#返回的img是矩阵，存储的是图片的宽度即x轴与图片的高度即y轴\n",
    "(b,g,r) = img[100,100]#读取像素块后返回的是元组；并且opencv中保存的不是RGB，而是bgr；b是蓝色通道，g是绿色通道，r是红色通道\n",
    "print(b,g,r)#打印出来的是[100,100]像素块的像素信息\n",
    "#将[10,100]----[110,100]的像素块的像素改变了\n",
    "for i in range(1,100):\n",
    "    img[10+i,100] = (255,0,0)\n",
    "cv2.imshow('image',img)\n",
    "cv2.waitKey(0)#括号中若是具体数字，单位是ms_\n",
    "#opencv中的宽度和高度和像素坐标正好是相反的，因此结果出来的蓝线是竖直的而不是横的"
   ]
  },
  {
   "cell_type": "code",
   "execution_count": null,
   "metadata": {},
   "outputs": [],
   "source": []
  }
 ],
 "metadata": {
  "kernelspec": {
   "display_name": "Python 3",
   "language": "python",
   "name": "python3"
  },
  "language_info": {
   "codemirror_mode": {
    "name": "ipython",
    "version": 3
   },
   "file_extension": ".py",
   "mimetype": "text/x-python",
   "name": "python",
   "nbconvert_exporter": "python",
   "pygments_lexer": "ipython3",
   "version": "3.5.6"
  }
 },
 "nbformat": 4,
 "nbformat_minor": 4
}

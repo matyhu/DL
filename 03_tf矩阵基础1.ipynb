{
 "cells": [
  {
   "cell_type": "code",
   "execution_count": 2,
   "metadata": {},
   "outputs": [
    {
     "name": "stdout",
     "output_type": "stream",
     "text": [
      "8.0\n",
      "end!\n"
     ]
    }
   ],
   "source": [
    "#当变量的值是运算过程中不断加进去的时候就需要使用placehold\n",
    "import tensorflow as tf\n",
    "data1 = tf.placeholder(tf.float32)\n",
    "data2 = tf.placeholder(tf.float32)\n",
    "dataAdd = tf.add(data1,data2)\n",
    "with tf.Session() as sess:\n",
    "    print(sess.run(dataAdd,feed_dict={data1:6,data2:2}))\n",
    "    #run（）中，第一个参数：dataAdd是进行的运算，第二个参数是使用feed_dict={var1: ,var2: }来进行变量赋值\n",
    "print('end!')"
   ]
  },
  {
   "cell_type": "code",
   "execution_count": 10,
   "metadata": {},
   "outputs": [
    {
     "name": "stdout",
     "output_type": "stream",
     "text": [
      "(3, 2)\n",
      "[[1 2]\n",
      " [3 4]\n",
      " [5 6]]\n",
      "[1 2]\n",
      "[1 3 5]\n",
      "1\n"
     ]
    }
   ],
   "source": [
    "#矩阵运算 类比 数组 M行N列  矩阵用[]表示，其中外部的[]表示行数 [[表示列数]]\n",
    "#定义1行2列的数据 [[6,6]]\n",
    "import tensorflow as tf\n",
    "data1 = tf.constant([[6,6]])\n",
    "data2 = tf.constant([[2],\n",
    "                     [2]])\n",
    "data3 = tf.constant([[3,3]])\n",
    "data4 = tf.constant([[1,2],\n",
    "                     [3,4],\n",
    "                     [5,6]])\n",
    "print(data4.shape)#打印矩阵的维度\n",
    "with tf.Session() as sess:\n",
    "    print(sess.run(data4))\n",
    "    print(sess.run(data4[0]))#打印data4矩阵的第一行\n",
    "    print(sess.run(data4[:,0]))#打印data4矩阵的第一列\n",
    "    print(sess.run(data4[0,0]))#打印第一行第一列,所有的M和N的第一个元素就是0\n",
    "    #3行2列 M：0,1,2 N：0,1"
   ]
  },
  {
   "cell_type": "code",
   "execution_count": null,
   "metadata": {},
   "outputs": [],
   "source": []
  }
 ],
 "metadata": {
  "kernelspec": {
   "display_name": "Python 3",
   "language": "python",
   "name": "python3"
  },
  "language_info": {
   "codemirror_mode": {
    "name": "ipython",
    "version": 3
   },
   "file_extension": ".py",
   "mimetype": "text/x-python",
   "name": "python",
   "nbconvert_exporter": "python",
   "pygments_lexer": "ipython3",
   "version": "3.5.6"
  }
 },
 "nbformat": 4,
 "nbformat_minor": 4
}

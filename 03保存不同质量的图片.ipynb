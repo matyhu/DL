{
 "cells": [
  {
   "cell_type": "code",
   "execution_count": 9,
   "metadata": {},
   "outputs": [
    {
     "data": {
      "text/plain": [
       "True"
      ]
     },
     "execution_count": 9,
     "metadata": {},
     "output_type": "execute_result"
    }
   ],
   "source": [
    "import cv2\n",
    "img = cv2.imread('image0.jpg',1)\n",
    "cv2.imwrite('imageTest.jpg',img,[cv2.IMWRITE_JPEG_QUALITY,50])\n",
    "#压缩图片，压缩比例的范围是0-100，压缩100倍的时候还是可以的。JPG的压缩是有损压缩"
   ]
  },
  {
   "cell_type": "code",
   "execution_count": 10,
   "metadata": {},
   "outputs": [
    {
     "data": {
      "text/plain": [
       "True"
      ]
     },
     "execution_count": 10,
     "metadata": {},
     "output_type": "execute_result"
    }
   ],
   "source": [
    "#png压缩：\n",
    "#1.是无所压缩 2.png格式还可以调整透明度\n",
    "import cv2\n",
    "img = cv2.imread('image0.jpg',1)\n",
    "cv2.imwrite('imageTest.png',img,[cv2.IMWRITE_PNG_COMPRESSION,0])\n",
    "\n",
    "#总结：\n",
    "#对于jpg文件来说，数字越小，压缩比越高，越不清晰。压缩范围是0-100\n",
    "#对于png文件来说，数字越大，压缩比越高。压缩范围是0-9"
   ]
  },
  {
   "cell_type": "code",
   "execution_count": null,
   "metadata": {},
   "outputs": [],
   "source": []
  }
 ],
 "metadata": {
  "kernelspec": {
   "display_name": "Python 3",
   "language": "python",
   "name": "python3"
  },
  "language_info": {
   "codemirror_mode": {
    "name": "ipython",
    "version": 3
   },
   "file_extension": ".py",
   "mimetype": "text/x-python",
   "name": "python",
   "nbconvert_exporter": "python",
   "pygments_lexer": "ipython3",
   "version": "3.5.6"
  }
 },
 "nbformat": 4,
 "nbformat_minor": 4
}
